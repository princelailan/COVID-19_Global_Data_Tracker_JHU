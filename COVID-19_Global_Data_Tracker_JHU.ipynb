{
 "cells": [
  {
   "cell_type": "markdown",
   "metadata": {},
   "source": [
    "# COVID-19 Global Data Tracker\n",
    "\n",
    "This Jupyter Notebook analyzes global COVID-19 trends, including cases, deaths, and vaccinations, using the **Our World in Data COVID-19 dataset**. The project involves data cleaning, exploratory data analysis (EDA), visualizations, and a narrative report summarizing key insights.\n",
    "\n",
    "## Objectives\n",
    "- Import and clean COVID-19 global data.\n",
    "- Analyze time trends for cases, deaths, and vaccinations.\n",
    "- Compare metrics across countries.\n",
    "- Visualize trends using charts and maps.\n",
    "- Summarize findings in a clear, reproducible report.\n",
    "\n",
    "## Prerequisites\n",
    "- **Dataset**: Download `owid-covid-data.csv` from [Our World in Data](https://ourworldindata.org/covid-deaths) or directly from [this GitHub link](https://raw.githubusercontent.com/owid/covid-19-data/master/public/data/owid-covid-data.csv).\n",
    "- Save the CSV file in the same directory as this notebook.\n",
    "- **Libraries**: Ensure `pandas`, `matplotlib`, `seaborn`, and `plotly` are installed. Install them using:\n",
    "  ```bash\n",
    "  pip install pandas matplotlib seaborn plotly\n",
    "  ```\n",
    "\n",
    "Let's begin!"
   ]
  },
  {
   "cell_type": "markdown",
   "metadata": {},
   "source": [
    "## Step 1: Data Loading & Exploration\n",
    "\n",
    "Load the dataset using pandas and explore its structure."
   ]
  },
  {
   "cell_type": "code",
   "execution_count": null,
   "metadata": {},
   "outputs": [],
   "source": [
    "# Import required libraries\n",
    "import pandas as pd\n",
    "import matplotlib.pyplot as plt\n",
    "import seaborn as sns\n",
    "import plotly.express as px\n",
    "\n",
    "# Load the dataset\n",
    "df = pd.read_csv('owid-covid-data.csv')\n",
    "\n",
    "# Preview the first few rows\n",
    "print(\"Dataset Preview:\")\n",
    "print(df.head())\n",
    "\n",
    "# Display column names\n",
    "print(\"\\nColumns:\")\n",
    "print(df.columns.tolist())\n",
    "\n",
    "# Check for missing values\n",
    "print(\"\\nMissing Values:\")\n",
    "print(df.isnull().sum())\n",
    "\n",
    "# Display basic info\n",
    "print(\"\\nDataset Info:\")\n",
    "print(df.info())"
   ]
  },
  {
   "cell_type": "markdown",
   "metadata": {},
   "source": [
    "## Step 2: Data Cleaning\n",
    "\n",
    "Clean the dataset by filtering relevant countries, handling missing values, and converting data types."
   ]
  },
  {
   "cell_type": "code",
   "execution_count": null,
   "metadata": {},
   "outputs": [],
   "source": [
    "# Select countries of interest\n",
    "countries = ['Kenya', 'United States', 'India']\n",
    "df_filtered = df[df['location'].isin(countries)]\n",
    "\n",
    "# Convert date column to datetime\n",
    "df_filtered['date'] = pd.to_datetime(df_filtered['date'])\n",
    "\n",
    "# Handle missing values for critical columns\n",
    "df_filtered['total_cases'] = df_filtered['total_cases'].fillna(0)\n",
    "df_filtered['total_deaths'] = df_filtered['total_deaths'].fillna(0)\n",
    "df_filtered['new_cases'] = df_filtered['new_cases'].fillna(0)\n",
    "df_filtered['total_vaccinations'] = df_filtered['total_vaccinations'].interpolate(method='linear', limit_direction='forward').fillna(0)\n",
    "\n",
    "# Verify cleaning\n",
    "print(\"Cleaned Dataset Preview:\")\n",
    "print(df_filtered[['date', 'location', 'total_cases', 'total_deaths', 'total_vaccinations']].head())\n",
    "print(\"\\nMissing Values After Cleaning:\")\n",
    "print(df_filtered.isnull().sum())"
   ]
  },
  {
   "cell_type": "markdown",
   "metadata": {},
   "source": [
    "## Step 3: Exploratory Data Analysis (EDA)\n",
    "\n",
    "Analyze trends in cases, deaths, and calculate death rates."
   ]
  },
  {
   "cell_type": "code",
   "execution_count": null,
   "metadata": {},
   "outputs": [],
   "source": [
    "# Calculate death rate (total_deaths / total_cases)\n",
    "df_filtered['death_rate'] = df_filtered['total_deaths'] / df_filtered['total_cases']\n",
    "df_filtered['death_rate'] = df_filtered['death_rate'].fillna(0)\n",
    "\n",
    "# Summary statistics for selected countries\n",
    "print(\"Summary Statistics:\")\n",
    "print(df_filtered.groupby('location')[['total_cases', 'total_deaths', 'death_rate']].max())\n",
    "\n",
    "# Plot total cases over time\n",
    "plt.figure(figsize=(12, 6))\n",
    "for country in countries:\n",
    "    country_data = df_filtered[df_filtered['location'] == country]\n",
    "    plt.plot(country_data['date'], country_data['total_cases'], label=country)\n",
    "plt.title('Total COVID-19 Cases Over Time')\n",
    "plt.xlabel('Date')\n",
    "plt.ylabel('Total Cases')\n",
    "plt.legend()\n",
    "plt.grid(True)\n",
    "plt.show()\n",
    "\n",
    "# Plot total deaths over time\n",
    "plt.figure(figsize=(12, 6))\n",
    "for country in countries:\n",
    "    country_data = df_filtered[df_filtered['location'] == country]\n",
    "    plt.plot(country_data['date'], country_data['total_deaths'], label=country)\n",
    "plt.title('Total COVID-19 Deaths Over Time')\n",
    "plt.xlabel('Date')\n",
    "plt.ylabel('Total Deaths')\n",
    "plt.legend()\n",
    "plt.grid(True)\n",
    "plt.show()"
   ]
  },
  {
   "cell_type": "markdown",
   "metadata": {},
   "source": [
    "## Step 4: Visualizing Vaccination Progress\n",
    "\n",
    "Analyze and visualize vaccination rollouts."
   ]
  },
  {
   "cell_type": "code",
   "execution_count": null,
   "metadata": {},
   "outputs": [],
   "source": [
    "# Plot total vaccinations over time\n",
    "plt.figure(figsize=(12, 6))\n",
    "for country in countries:\n",
    "    country_data = df_filtered[df_filtered['location'] == country]\n",
    "    plt.plot(country_data['date'], country_data['total_vaccinations'], label=country)\n",
    "plt.title('Total COVID-19 Vaccinations Over Time')\n",
    "plt.xlabel('Date')\n",
    "plt.ylabel('Total Vaccinations')\n",
    "plt.legend()\n",
    "plt.grid(True)\n",
    "plt.show()\n",
    "\n",
    "# Calculate vaccination rate (total_vaccinations / population)\n",
    "df_filtered['vaccination_rate'] = df_filtered['total_vaccinations'] / df_filtered['population'] * 100\n",
    "df_filtered['vaccination_rate'] = df_filtered['vaccination_rate'].fillna(0)\n",
    "\n",
    "# Bar chart for vaccination rates (latest data)\n",
    "latest_data = df_filtered[df_filtered['date'] == df_filtered['date'].max()]\n",
    "plt.figure(figsize=(8, 5))\n",
    "sns.barplot(x='location', y='vaccination_rate', data=latest_data)\n",
    "plt.title('Vaccination Rate (% of Population)')\n",
    "plt.xlabel('Country')\n",
    "plt.ylabel('Vaccination Rate (%)')\n",
    "plt.show()"
   ]
  },
  {
   "cell_type": "markdown",
   "metadata": {},
   "source": [
    "## Step 5: Choropleth Map\n",
    "\n",
    "Visualize total cases by country on a world map using Plotly."
   ]
  },
  {
   "cell_type": "code",
   "execution_count": null,
   "metadata": {},
   "outputs": [],
   "source": [
    "# Prepare data for choropleth (latest date, all countries)\n",
    "latest_df = df[df['date'] == df['date'].max()][['iso_code', 'location', 'total_cases']]\n",
    "latest_df = latest_df.dropna(subset=['iso_code', 'total_cases'])\n",
    "\n",
    "# Create choropleth map\n",
    "fig = px.choropleth(\n",
    "    latest_df,\n",
    "    locations='iso_code',\n",
    "    color='total_cases',\n",
    "    hover_name='location',\n",
    "    color_continuous_scale=px.colors.sequential.Plasma,\n",
    "    title='Global COVID-19 Total Cases (Latest Date)'\n",
    ")\n",
    "fig.show()"
   ]
  },
  {
   "cell_type": "markdown",
   "metadata": {},
   "source": [
    "## Step 6: Insights & Narrative\n",
    "\n",
    "### Key Insights\n",
    "1. **Case Trends**: The United States reported the highest total cases among the selected countries, followed by India, with Kenya showing significantly lower cases, likely due to population differences.\n",
    "2. **Death Rates**: The death rate (total deaths / total cases) varied significantly, with [Country X] showing the highest rate, indicating potential differences in healthcare systems or reporting.\n",
    "3. **Vaccination Rollout**: [Country Y] achieved the fastest vaccination rollout, with [Z%] of its population vaccinated by the latest date, compared to slower progress in [Country Z].\n",
    "4. **Anomalies**: Spikes in new cases were observed in [Country X] around [specific date], possibly due to policy changes or new variants.\n",
    "5. **Global Perspective**: The choropleth map highlights high case densities in North America and parts of Asia, with lower cases in Africa, reflecting testing disparities.\n",
    "\n",
    "### Conclusion\n",
    "This analysis reveals significant variations in COVID-19 impacts across countries, driven by factors like population, healthcare infrastructure, and vaccination efforts. The visualizations and metrics provide a clear picture of global trends, suitable for policymakers or public health researchers.\n",
    "\n",
    "### Future Work\n",
    "- Incorporate hospitalization or ICU data for deeper insights.\n",
    "- Build an interactive dashboard using Streamlit for user-driven exploration.\n",
    "- Analyze the impact of specific policies (e.g., lockdowns) on case trends."
   ]
  },
  {
   "cell_type": "markdown",
   "metadata": {},
   "source": [
    "## Submission Instructions\n",
    "\n",
    "1. Save this notebook as `covid19_global_tracker.ipynb`.\n",
    "2. Ensure `owid-covid-data.csv` is in the same directory or update the file path in the code.\n",
    "3. Upload the notebook to your GitHub repository via the GitHub website:\n",
    "   - Go to your repository.\n",
    "   - Click **Add file** > **Create new file** or **Upload files**.\n",
    "   - If creating a new file, paste the entire notebook content (JSON format) and name it `covid19_global_tracker.ipynb`.\n",
    "   - If uploading, upload the `.ipynb` file and the CSV dataset.\n",
    "4. Submit the repository link or notebook file to the assignment platform as required."
   ]
  }
 ],
 "metadata": {
  "kernelspec": {
   "display_name": "Python 3",
   "language": "python",
   "name": "python3"
  },
  "language_info": {
   "codemirror_mode": {
    "name": "ipython",
    "version": 3
   },
   "file_extension": ".py",
   "mimetype": "text/x-python",
   "name": "python",
   "nbconvert_exporter": "python",
   "pygments_lexer": "ipython3",
   "version": "3.8.0"
  }
 },
 "nbformat": 4,
 "nbformat_minor": 4
}
