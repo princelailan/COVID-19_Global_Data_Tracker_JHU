{
 "cells": [
  {
   "cell_type": "markdown",
   "metadata": {},
   "source": [
    "# COVID-19 Global Data Tracker\n",
    "\n",
    "## Introduction\n",
    "This Jupyter Notebook analyzes global COVID-19 trends using the Johns Hopkins University dataset from GitHub. We focus on Kenya, USA, and India to explore cases and deaths. The analysis includes data cleaning, exploratory data analysis (EDA), visualizations, and key insights.\n",
    "\n",
    "## Objectives\n",
    "- Load and clean COVID-19 data from GitHub.\n",
    "- Analyze trends in cases and deaths.\n",
    "- Compare metrics across countries.\n",
    "- Visualize data with line charts, bar charts, and a choropleth map.\n",
    "- Summarize findings in a narrative report."
   ]
  },
  {
   "cell_type": "code",
   "execution_count": null,
   "metadata": {},
   "outputs": [],
   "source": [
    "# Import libraries\n",
    "import pandas as pd\n",
    "import matplotlib.pyplot as plt\n",
    "import seaborn as sns\n",
    "import plotly.express as px\n",
    "from datetime import datetime\n",
    "import warnings\n",
    "warnings.filterwarnings('ignore')"
   ]
  },
  {
   "cell_type": "markdown",
   "metadata": {},
   "source": [
    "## 1. Data Collection\n",
    "We load the Johns Hopkins COVID-19 time-series data directly from GitHub.\n",
    "- Confirmed cases: https://raw.githubusercontent.com/CSSEGISandData/COVID-19/master/csse_covid_19_data/csse_covid_19_time_series/time_series_covid19_confirmed_global.csv\n",
    "- Deaths: https://raw.githubusercontent.com/CSSEGISandData/COVID-19/master/csse_covid_19_data/csse_covid_19_time_series/time_series_covid19_deaths_global.csv"
   ]
  },
  {
   "cell_type": "code",
   "execution_count": null,
   "metadata": {},
   "outputs": [],
   "source": [
    "# Load datasets\n",
    "confirmed_url = 'https://raw.githubusercontent.com/CSSEGISandData/COVID-19/master/csse_covid_19_data/csse_covid_19_time_series/time_series_covid19_confirmed_global.csv'\n",
    "deaths_url = 'https://raw.githubusercontent.com/CSSEGISandData/COVID-19/master/csse_covid_19_data/csse_covid_19_time_series/time_series_covid19_deaths_global.csv'\n",
    "\n",
    "confirmed_df = pd.read_csv(confirmed_url)\n",
    "deaths_df = pd.read_csv(deaths_url)\n",
    "\n",
    "# Preview data\n",
    "print(\"Confirmed Cases Columns:\", confirmed_df.columns.tolist())\n",
    "print(\"\\nFirst 5 rows of Confirmed Cases:\\n\", confirmed_df.head())\n",
    "print(\"\\nDeaths Columns:\", deaths_df.columns.tolist())\n",
    "print(\"\\nFirst 5 rows of Deaths:\\n\", deaths_df.head())"
   ]
  },
  {
   "cell_type": "markdown",
   "metadata": {},
   "source": [
    "## 2. Data Cleaning\n",
    "The Johns Hopkins dataset is wide (dates as columns). We’ll reshape it to a long format, filter for Kenya, USA, and India, and merge cases and deaths."
   ]
  },
  {
   "cell_type": "code",
   "execution_count": null,
   "metadata": {},
   "outputs": [],
   "source": [
    "# Reshape confirmed cases to long format\n",
    "confirmed_long = confirmed_df.melt(id_vars=['Province/State', 'Country/Region', 'Lat', 'Long'], \n",
    "                                  var_name='Date', \n",
    "                                  value_name='Total_Cases')\n",
    "\n",
    "# Reshape deaths to long format\n",
    "deaths_long = deaths_df.melt(id_vars=['Province/State', 'Country/Region', 'Lat', 'Long'], \n",
    "                             var_name='Date', \n",
    "                             value_name='Total_Deaths')\n",
    "\n",
    "# Convert Date to datetime\n",
    "confirmed_long['Date'] = pd.to_datetime(confirmed_long['Date'])\n",
    "deaths_long['Date'] = pd.to_datetime(deaths_long['Date'])\n",
    "\n",
    "# Filter for Kenya, USA, India\n",
    "countries = ['Kenya', 'United States', 'India']\n",
    "confirmed_long = confirmed_long[confirmed_long['Country/Region'].isin(countries)]\n",
    "deaths_long = deaths_long[deaths_long['Country/Region'].isin(countries)]\n",
    "\n",
    "# Aggregate by country (sum over provinces/states)\n",
    "confirmed_agg = confirmed_long.groupby(['Country/Region', 'Date'])['Total_Cases'].sum().reset_index()\n",
    "deaths_agg = deaths_long.groupby(['Country/Region', 'Date'])['Total_Deaths'].sum().reset_index()\n",
    "\n",
    "# Merge cases and deaths\n",
    "df = pd.merge(confirmed_agg, deaths_agg, on=['Country/Region', 'Date'], how='inner')\n",
    "\n",
    "# Handle missing values\n",
    "df['Total_Cases'] = df['Total_Cases'].fillna(0)\n",
    "df['Total_Deaths'] = df['Total_Deaths'].fillna(0)\n",
    "\n",
    "# Calculate daily new cases\n",
    "df = df.sort_values(['Country/Region', 'Date'])\n",
    "df['New_Cases'] = df.groupby('Country/Region')['Total_Cases'].diff().fillna(0)\n",
    "\n",
    "# Rename columns for consistency\n",
    "df = df.rename(columns={'Country/Region': 'Location'})\n",
    "\n",
    "print(\"\\nCleaned Data Preview:\\n\", df.head())\n",
    "print(\"\\nMissing Values:\\n\", df.isnull().sum())"
   ]
  },
  {
   "cell_type": "markdown",
   "metadata": {},
   "source": [
    "## Data Cleaning Summary\n",
    "- Reshaped wide-format data to long format.\n",
    "- Filtered for Kenya, USA, and India.\n",
    "- Aggregated data by country to handle provinces/states.\n",
    "- Merged cases and deaths datasets.\n",
    "- Filled missing values with 0.\n",
    "- Calculated daily new cases."
   ]
  },
  {
   "cell_type": "markdown",
   "metadata": {},
   "source": [
    "## 3. Exploratory Data Analysis (EDA)\n",
    "We calculate the death rate and extract data for the latest date."
   ]
  },
  {
   "cell_type": "code",
   "execution_count": null,
   "metadata": {},
   "outputs": [],
   "source": [
    "# Calculate death rate\n",
    "df['Death_Rate'] = df['Total_Deaths'] / df['Total_Cases']\n",
    "df['Death_Rate'] = df['Death_Rate'].fillna(0)\n",
    "\n",
    "# Get latest date\n",
    "latest_date = df['Date'].max()\n",
    "latest_data = df[df['Date'] == latest_date]"
   ]
  },
  {
   "cell_type": "markdown",
   "metadata": {},
   "source": [
    "## EDA Summary\n",
    "- Added `Death_Rate` (Total_Deaths / Total_Cases).\n",
    "- Identified latest date for comparisons."
   ]
  },
  {
   "cell_type": "markdown",
   "metadata": {},
   "source": [
    "## 4. Visualizations\n",
    "### Line Chart: Total Cases Over Time"
   ]
  },
  {
   "cell_type": "code",
   "execution_count": null,
   "metadata": {},
   "outputs": [],
   "source": [
    "plt.figure(figsize=(12, 6))\n",
    "for country in countries:\n",
    "    country_data = df[df['Location'] == country]\n",
    "    plt.plot(country_data['Date'], country_data['Total_Cases'], label=country)\n",
    "plt.title('Total COVID-19 Cases Over Time')\n",
    "plt.xlabel('Date')\n",
    "plt.ylabel('Total Cases')\n",
    "plt.legend()\n",
    "plt.grid(True)\n",
    "plt.show()"
   ]
  },
  {
   "cell_type": "markdown",
   "metadata": {},
   "source": [
    "### Line Chart: Total Deaths Over Time"
   ]
  },
  {
   "cell_type": "code",
   "execution_count": null,
   "metadata": {},
   "outputs": [],
   "source": [
    "plt.figure(figsize=(12, 6))\n",
    "for country in countries:\n",
    "    country_data = df[df['Location'] == country]\n",
    "    plt.plot(country_data['Date'], country_data['Total_Deaths'], label=country)\n",
    "plt.title('Total COVID-19 Deaths Over Time')\n",
    "plt.xlabel('Date')\n",
    "plt.ylabel('Total Deaths')\n",
    "plt.legend()\n",
    "plt.grid(True)\n",
    "plt.show()"
   ]
  },
  {
   "cell_type": "markdown",
   "metadata": {},
   "source": [
    "### Bar Chart: Total Cases by Country (Latest Date)"
   ]
  },
  {
   "cell_type": "code",
   "execution_count": null,
   "metadata": {},
   "outputs": [],
   "source": [
    "plt.figure(figsize=(10, 6))\n",
    "sns.barplot(x='Location', y='Total_Cases', data=latest_data)\n",
    "plt.title(f'Total Cases by Country on {latest_date.date()}')\n",
    "plt.xlabel('Country')\n",
    "plt.ylabel('Total Cases')\n",
    "plt.show()"
   ]
  },
  {
   "cell_type": "markdown",
   "metadata": {},
   "source": [
    "## Visualizations: Cases and Deaths\n",
    "- **Line Chart (Cases)**: Tracks cumulative cases over time.\n",
    "- **Line Chart (Deaths)**: Shows death trends, with USA leading in total deaths.\n",
    "- **Bar Chart**: Compares total cases as of the latest date."
   ]
  },
  {
   "cell_type": "markdown",
   "metadata": {},
   "source": [
    "## 5. Choropleth Map\n",
    "Create a choropleth map using the latest data. We’ll use ISO codes from Our World in Data for mapping."
   ]
  },
  {
   "cell_type": "code",
   "execution_count": null,
   "metadata": {},
   "outputs": [],
   "source": [
    "# Load Our World in Data for ISO codes\n",
    "owid_url = 'https://raw.githubusercontent.com/owid/covid-19-data/master/public/data/owid-covid-data.csv'\n",
    "owid_df = pd.read_csv(owid_url)\n",
    "iso_mapping = owid_df[['location', 'iso_code']].drop_duplicates()\n",
    "\n",
    "# Merge ISO codes with latest data\n",
    "map_data = pd.merge(latest_data, iso_mapping, left_on='Location', right_on='location', how='left')\n",
    "\n",
    "# Create choropleth map\n",
    "fig = px.choropleth(map_data, \n",
    "                    locations='iso_code', \n",
    "                    color='Total_Cases', \n",
    "                    hover_name='Location', \n",
    "                    color_continuous_scale='Reds', \n",
    "                    title=f'Global COVID-19 Cases ({latest_date.date()})')\n",
    "fig.show()"
   ]
  },
  {
   "cell_type": "markdown",
   "metadata": {},
   "source": [
    "## Chorpleth Map\n",
    "A world map visualizing total COVID-19 cases by country as of the latest date. Red intensity indicates higher case numbers."
   ]
  },
  {
   "cell_type": "markdown",
   "metadata": {},
   "source": [
    "## 6. Key Insights\n",
    "1. **Case Trends**: The USA leads in total cases, followed by India. Kenya has significantly lower cases.\n",
    "2. **Death Rates**: India’s death rate is generally lower than the USA’s, possibly due to younger demographics.\n",
    "3. **Case Surges**: India’s 2021 surge was sharp but declined rapidly, suggesting effective interventions.\n",
    "4. **Global Perspective**: The choropleth map highlights North America as a case hotspot, with emerging trends in Asia.\n",
    "5. **Data Limitation**: This analysis focuses on cases and deaths; vaccination data requires additional sources.\n",
    "\n",
    "## Conclusion\n",
    "This analysis highlights diverse COVID-19 impacts across Kenya, USA, and India. Future work could include vaccination data or an interactive dashboard using Streamlit.\n",
    "\n",
    "*Notebook created on May 10, 2025. Data source: Johns Hopkins University GitHub.*"
   ]
  }
 ],
 "metadata": {
  "kernelspec": {
   "display_name": "Python 3",
   "language": "python",
   "name": "python3"
  },
  "language_info": {
   "codemirror_mode": {
    "name": "ipython",
    "version": 3
   },
   "file_extension": ".py",
   "mimetype": "text/x-python",
   "name": "python",
   "nbconvert_exporter": "python",
   "pygments_lexer": "ipython3",
   "version": "3.9.0"
  },
  "nbformat": 4,
  "nbformat_minor": 2
 }
