# COVID-19 Global Data Tracker (JHU Dataset)

## Project Overview
This Jupyter Notebook analyzes global COVID-19 trends using the Johns Hopkins University (JHU) dataset from [GitHub](https://github.com/CSSEGISandData/COVID-19). It focuses on confirmed cases and deaths for Kenya, United States, and India, with global context via a choropleth map. The analysis includes:
- Data loading and cleaning
- Exploratory data analysis (EDA) for trends
- Visualizations (line charts, bar charts, choropleth map)
- Narrative insights

**Note**: The JHU dataset lacks vaccination data, so this analysis covers cases and deaths, meeting core project requirements. Vaccination analysis can be added using Our World in Data if needed.

## 1. Data Collection
- **Source**: [JHU COVID-19 GitHub Repository](https://github.com/CSSEGISandData/COVID-19)
- **Files**:
  - `time_series_covid19_confirmed_global.csv` (cases)
  - `time_series_covid19_deaths_global.csv` (deaths)
- **Action**: Load CSVs from raw GitHub URLs with error handling.

```python
# Import required libraries
import pandas as pd
import matplotlib.pyplot as plt
import seaborn as sns
import plotly.express as px
import numpy as np
from datetime import datetime

# Load JHU time-series data with error handling
confirmed_url = "https://raw.githubusercontent.com/CSSEGISandData/COVID-19/master/csse_covid_19_data/csse_covid_19_time_series/time_series_covid19_confirmed_global.csv"
deaths_url = "https://raw.githubusercontent.com/CSSEGISandData/COVID-19/master/csse_covid_19_data/csse_covid_19_time_series/time_series_covid19_deaths_global.csv"

try:
    df_confirmed = pd.read_csv(confirmed_url)
    df_deaths = pd.read_csv(deaths_url)
    print("JHU datasets loaded successfully.")
except Exception as e:
    print(f"Error loading data: {e}")
    raise
```

## 2. Data Loading & Exploration
- **Goal**: Understand dataset structure.
- **Structure**: Wide format with `Province/State`, `Country/Region`, `Lat`, `Long`, and date columns (e.g., `1/22/20`).
- **Tasks**:
  - Display columns and preview rows.
  - Check for missing values.

```python
# Check if datasets are empty
if df_confirmed.empty or df_deaths.empty:
    raise ValueError("One or both datasets are empty.")

# Display columns (first 10 for brevity)
print("Confirmed columns:", df_confirmed.columns.tolist()[:10], "...")
print("Deaths columns:", df_deaths.columns.tolist()[:10], "...")

# Preview first 5 rows
print("\nConfirmed first 5 rows:\n", df_confirmed.head())
print("\nDeaths first 5 rows:\n", df_deaths.head())

# Check missing values
print("\nConfirmed missing values:\n", df_confirmed.isnull().sum())
print("\nDeaths missing values:\n", df_deaths.isnull().sum())
```

## 3. Data Cleaning
- **Goal**: Transform wide data to long format, filter for Kenya, United States, and India, and handle missing values.
- **Tasks**:
  - Aggregate by `Country/Region`.
  - Melt to long format (`Country/Region`, `Date`, `Total_Cases`/`Total_Deaths`).
  - Convert `Date` to datetime.
  - Filter countries.
  - Fill missing values.

```python
# Aggregate by Country/Region (sum provinces/states)
confirmed_agg = df_confirmed.groupby('Country/Region').sum().drop(['Lat', 'Long'], axis=1, errors='ignore')
deaths_agg = df_deaths.groupby('Country/Region').sum().drop(['Lat', 'Long'], axis=1, errors='ignore')

# Validate date columns match
if not confirmed_agg.columns.equals(deaths_agg.columns):
    raise ValueError("Date columns in confirmed and deaths datasets do not match.")

# Melt to long format
dates = confirmed_agg.columns
confirmed_long = confirmed_agg.reset_index().melt(id_vars='Country/Region', value_vars=dates, 
                                                 var_name='Date', value_name='Total_Cases')
deaths_long = deaths_agg.reset_index().melt(id_vars='Country/Region', value_vars=dates, 
                                           var_name='Date', value_name='Total_Deaths')

# Convert Date to datetime
try:
    confirmed_long['Date'] = pd.to_datetime(confirmed_long['Date'], format='%m/%d/%y')
    deaths_long['Date'] = pd.to_datetime(deaths_long['Date'], format='%m/%d/%y')
except Exception as e:
    print(f"Error converting dates: {e}")
    raise

# Merge datasets
df = confirmed_long.merge(deaths_long, on=['Country/Region', 'Date'], how='inner')

# Check if merged data is empty
if df.empty:
    raise ValueError("Merged dataset is empty after processing.")

# Filter for specific countries (US is 'US' in JHU)
countries = ['Kenya', 'US', 'India']
df_filtered = df[df['Country/Region'].isin(countries)]

# Handle missing values
df_filtered['Total_Cases'] = df_filtered['Total_Cases'].fillna(0).astype(int)
df_filtered['Total_Deaths'] = df_filtered['Total361_Deaths'].fillna(0).astype(int)

# Verify cleaning
print("\nFiltered data (first 5 rows):\n", df_filtered.head())
print("\nMissing values after cleaning:\n", df_filtered.isnull().sum())
```

## 4. Exploratory Data Analysis (EDA)
- **Goal**: Analyze trends and calculate metrics.
- **Tasks**:
  - Calculate death rate safely.
  - Summarize latest data.

```python
# Calculate death rate (avoid division by zero)
df_filtered['Death_Rate'] = np.where(df_filtered['Total_Cases'] > 0, 
                                    df_filtered['Total_Deaths'] / df_filtered['Total_Cases'], 
                                    0)

# Summary statistics
print("\nSummary statistics for filtered data:\n", df_filtered.describe())

# Latest data
latest_date = df_filtered['Date'].max()
latest_data = df_filtered[df_filtered['Date'] == latest_date]
if latest_data.empty:
    raise ValueError("No data available for the latest date.")
print("\nLatest data (", latest_date.date(), "):\n", 
      latest_data[['Country/Region', 'Total_Cases', 'Total_Deaths', 'Death_Rate']])
```

## 5. Visualizations
- **Goal**: Visualize trends and comparisons.
- **Charts**:
  - Line charts: Cases and deaths over time.
  - Bar chart: Cases by country (latest date).
  - Choropleth map: Global cases.

### Line Chart: Total Cases Over Time
```python
if not df_filtered.empty:
    plt.figure(figsize=(12, 6))
    for country in countries:
        country_data = df_filtered[df_filtered['Country/Region'] == country]
        if not country_data.empty:
            plt.plot(country_data['Date'], country_data['Total_Cases'], label=country)
    plt.title('Total COVID-19 Cases Over Time')
    plt.xlabel('Date')
    plt.ylabel('Total Cases')
    plt.legend()
    plt.grid(True)
    plt.xticks(rotation=45)
    plt.tight_layout()
    plt.show()
else:
    print("No data available for plotting cases.")
```

### Line Chart: Total Deaths Over Time
```python
if not df_filtered.empty:
    plt.figure(figsize=(12, 6))
    for country in countries:
        country_data = df_filtered[df_filtered['Country/Region'] == country]
        if not country_data.empty:
            plt.plot(country_data['Date'], country_data['Total_Deaths'], label=country)
    plt.title('Total COVID-19 Deaths Over Time')
    plt.xlabel('Date')
    plt.ylabel('Total Deaths')
    plt.legend()
    plt.grid(True)
    plt.xticks(rotation=45)
    plt.tight_layout()
    plt.show()
else:
    print("No data available for plotting deaths.")
```

### Bar Chart: Total Cases by Country (Latest Date)
```python
if not latest_data.empty:
    plt.figure(figsize=(8, 5))
    sns.barplot(x='Country/Region', y='Total_Cases', data=latest_data)
    plt.title(f'Total Cases by Country on {latest_date.date()}')
    plt.xlabel('Country')
    plt.ylabel('Total Cases')
    plt.tight_layout()
    plt.show()
else:
    print("No data available for bar chart.")
```

### Choropleth Map: Global Cases
```python
# Expanded ISO code mapping
iso_mapping = {
    'Kenya': 'KEN', 'US': 'USA', 'India': 'IND', 'Brazil': 'BRA', 'France': 'FRA',
    'Germany': 'DEU', 'Italy': 'ITA', 'United Kingdom': 'GBR', 'China': 'CHN',
    'Russia': 'RUS', 'Japan': 'JPN', 'South Africa': 'ZAF', 'Australia': 'AUS',
    'Canada': 'CAN', 'Spain': 'ESP', 'Mexico': 'MEX', 'Argentina': 'ARG'
}
choropleth_data = df[df['Date'] == latest_date].copy()
choropleth_data['iso_code'] = choropleth_data['Country/Region'].map(iso_mapping)
choropleth_data = choropleth_data.dropna(subset=['iso_code', 'Total_Cases'])

if not choropleth_data.empty:
    fig = px.choropleth(
        choropleth_data,
        locations='iso_code',
        color='Total_Cases',
        hover_name='Country/Region',
        color_continuous_scale='Reds',
        title=f'Global COVID-19 Cases on {latest_date.date()}',
        projection='natural earth'
    )
    fig.show()
else:
    print("No data available for choropleth map.")
```

## 6. Insights & Reporting
- **Goal**: Summarize findings.
- **Key Insights**:
  1. Case Trends: The United States leads in cumulative cases, driven by its population and early pandemic spread.
  2. Death Trends: India has high deaths but a lower death rate than the US, possibly due to demographic factors.
  3. Death Rates: Kenya's low death rate suggests underreporting or effective early measures.
  4. Global Distribution: The choropleth map shows high case burdens in North America, South Asia, and Europe.
  5. Data Limitation: Lack of vaccination data in JHU limits analysis; Our World in Data could provide vaccination insights.

## 7. Conclusion
This analysis uses the JHU dataset to explore COVID-19 cases and deaths in Kenya, the United States, and India, with global context. Visualizations highlight disparities in case growth and mortality. Future work could include:
- Integrating vaccination data from Our World in Data.
- Building an interactive Streamlit dashboard.
- Expanding to more metrics (e.g., new cases).

## 8. References
- [JHU COVID-19 GitHub Repository](https://github.com/CSSEGISandData/COVID-19)
- [Our World in Data (context)](https://ourworldindata.org/coronavirus)
- [Kaggle Datasets](https://www.kaggle.com/datasets)

## Notes
```python
# The notebook is reproducible: run all cells in order.
# To export to PDF: jupyter nbconvert --to pdf COVID-19_Global_Data_Tracker_JHU.ipynb
# Install libraries: pip install pandas matplotlib seaborn plotly
```
