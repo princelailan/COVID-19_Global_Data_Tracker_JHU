# COVID-19 Global Data Tracker
# Author: Joseph Onyango

import pandas as pd
import matplotlib.pyplot as plt
import seaborn as sns

# Load data from JHU GitHub repository
confirmed_url = 'https://raw.githubusercontent.com/CSSEGISandData/COVID-19/master/csse_covid_19_data/csse_covid_19_time_series/time_series_covid19_confirmed_global.csv'
deaths_url = 'https://raw.githubusercontent.com/CSSEGISandData/COVID-19/master/csse_covid_19_data/csse_covid_19_time_series/time_series_covid19_deaths_global.csv'

df_confirmed = pd.read_csv(confirmed_url)
df_deaths = pd.read_csv(deaths_url)

# Countries to analyze
countries = ['Kenya', 'United States', 'India']

# Filter and reshape
def prepare_df(df, value_name):
    df_filtered = df[df['Country/Region'].isin(countries)]
    df_grouped = df_filtered.groupby('Country/Region').sum(numeric_only=True).drop(columns=['Lat', 'Long'], errors='ignore')
    df_long = df_grouped.T
    df_long.index = pd.to_datetime(df_long.index)
    df_long = df_long.reset_index().rename(columns={'index': 'Date'})
    df_long = pd.melt(df_long, id_vars='Date', var_name='Country', value_name=value_name)
    return df_long

df_cases = prepare_df(df_confirmed, 'Total Cases')
df_deaths = prepare_df(df_deaths, 'Total Deaths')

# Merge and calculate death rate
df = pd.merge(df_cases, df_deaths, on=['Date', 'Country'])
df['Death Rate'] = df['Total Deaths'] / df['Total Cases']
df.fillna(0, inplace=True)

# Plot: Total Cases Over Time
plt.figure(figsize=(12,6))
sns.lineplot(data=df, x='Date', y='Total Cases', hue='Country')
plt.title('Total COVID-19 Cases Over Time')
plt.xlabel('Date')
plt.ylabel('Total Cases')
plt.grid(True)
plt.tight_layout()
plt.savefig('cases_plot.png')  # For GitHub visibility
plt.show()

# Plot: Total Deaths Over Time
plt.figure(figsize=(12,6))
sns.lineplot(data=df, x='Date', y='Total Deaths', hue='Country')
plt.title('Total COVID-19 Deaths Over Time')
plt.xlabel('Date')
plt.ylabel('Total Deaths')
plt.grid(True)
plt.tight_layout()
plt.savefig('deaths_plot.png')  # For GitHub visibility
plt.show()

# Plot: Death Rate Over Time
plt.figure(figsize=(12,6))
sns.lineplot(data=df, x='Date', y='Death Rate', hue='Country')
plt.title('COVID-19 Death Rate Over Time')
plt.xlabel('Date')
plt.ylabel('Death Rate')
plt.grid(True)
plt.tight_layout()
plt.savefig('death_rate_plot.png')  # For GitHub visibility
plt.show()

# Summary table
summary = df.groupby('Country').agg({
    'Total Cases': 'max',
    'Total Deaths': 'max',
    'Death Rate': 'mean'
}).round(2)

print("\n--- Summary Statistics ---")
print(summary)
