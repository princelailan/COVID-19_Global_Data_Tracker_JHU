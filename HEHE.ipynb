# COVID-19 Tracker with Charts - GitHub Compatible
import pandas as pd
import matplotlib.pyplot as plt
import seaborn as sns

# Load data directly from the web
confirmed_url = 'https://raw.githubusercontent.com/CSSEGISandData/COVID-19/master/csse_covid_19_data/csse_covid_19_time_series/time_series_covid19_confirmed_global.csv'
deaths_url = 'https://raw.githubusercontent.com/CSSEGISandData/COVID-19/master/csse_covid_19_data/csse_covid_19_time_series/time_series_covid19_deaths_global.csv'

df_confirmed = pd.read_csv(confirmed_url)
df_deaths = pd.read_csv(deaths_url)

# Countries you want to track
countries = ['Kenya', 'United States', 'India']

# Function to prepare data
def prepare_df(df, value_name):
    df_filtered = df[df['Country/Region'].isin(countries)]
    df_grouped = df_filtered.groupby('Country/Region').sum(numeric_only=True).drop(columns=['Lat', 'Long'], errors='ignore')
    df_long = df_grouped.T
    df_long.index = pd.to_datetime(df_long.index)
    df_long = df_long.reset_index().rename(columns={'index': 'Date'})
    df_long = pd.melt(df_long, id_vars='Date', var_name='Country', value_name=value_name)
    return df_long

# Process data
df_cases = prepare_df(df_confirmed, 'Total Cases')
df_deaths = prepare_df(df_deaths, 'Total Deaths')
df = pd.merge(df_cases, df_deaths, on=['Date', 'Country'])
df['Death Rate'] = df['Total Deaths'] / df['Total Cases']
df.fillna(0, inplace=True)

# Plot 1: Total Cases
plt.figure(figsize=(10,6))
sns.lineplot(data=df, x='Date', y='Total Cases', hue='Country')
plt.title('Total COVID-19 Cases Over Time')
plt.xlabel('Date')
plt.ylabel('Cases')
plt.grid(True)
plt.tight_layout()
plt.show()

# Plot 2: Total Deaths
plt.figure(figsize=(10,6))
sns.lineplot(data=df, x='Date', y='Total Deaths', hue='Country')
plt.title('Total COVID-19 Deaths Over Time')
plt.xlabel('Date')
plt.ylabel('Deaths')
plt.grid(True)
plt.tight_layout()
plt.show()

# Plot 3: Death Rate
plt.figure(figsize=(10,6))
sns.lineplot(data=df, x='Date', y='Death Rate', hue='Country')
plt.title('COVID-19 Death Rate Over Time')
plt.xlabel('Date')
plt.ylabel('Death Rate')
plt.grid(True)
plt.tight_layout()
plt.show()
